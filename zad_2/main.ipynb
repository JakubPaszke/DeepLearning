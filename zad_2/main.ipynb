{
 "cells": [
  {
   "cell_type": "markdown",
   "id": "7da3162d",
   "metadata": {},
   "source": [
    "## Module loading, data files upload"
   ]
  },
  {
   "cell_type": "code",
   "execution_count": 40,
   "id": "e05e134a",
   "metadata": {},
   "outputs": [],
   "source": [
    "import gzip\n",
    "import shutil\n",
    "import pandas as pd\n",
    "from gensim.models import KeyedVectors\n",
    "import numpy as np\n",
    "import re\n",
    "import torch\n",
    "import torch.nn as nn\n",
    "from torch.utils.data import Dataset, DataLoader\n",
    "from sklearn.metrics import accuracy_score\n",
    "from sklearn.feature_extraction.text import TfidfVectorizer"
   ]
  },
  {
   "cell_type": "code",
   "execution_count": 41,
   "id": "e61d0292",
   "metadata": {},
   "outputs": [],
   "source": [
    "train = pd.read_csv('train/train.tsv', sep='\\t', header=None, names=['label', 'text'])\n",
    "test = pd.read_csv('dev-0/in.tsv', sep='\\t', header=None, names=['text'])\n",
    "test_results = pd.read_csv('dev-0/expected.tsv', sep='\\t', header=None, names=['label'])"
   ]
  },
  {
   "cell_type": "markdown",
   "id": "5685c100",
   "metadata": {},
   "source": [
    "## Polish Word2Vec"
   ]
  },
  {
   "cell_type": "code",
   "execution_count": 42,
   "id": "41a547c4",
   "metadata": {},
   "outputs": [],
   "source": [
    "model_path = './../word2vec_polish.bin'\n",
    "w2v_model = KeyedVectors.load(model_path)\n",
    "vector_size = w2v_model.vector_size"
   ]
  },
  {
   "cell_type": "markdown",
   "id": "cb463b12",
   "metadata": {},
   "source": [
    "## Helper functions"
   ]
  },
  {
   "cell_type": "code",
   "execution_count": 43,
   "id": "aa470165",
   "metadata": {},
   "outputs": [],
   "source": [
    "def clean_text(text):\n",
    "    text = str(text).lower()\n",
    "    text = re.sub(r'[^a-ząćęłńóśźż ]', '', text)\n",
    "    return text\n",
    "\n",
    "\n",
    "def text_to_vec(text, model, vector_size):\n",
    "    words = clean_text(text).split()\n",
    "    vectors = [model[w] for w in words if w in model]\n",
    "    if len(vectors) == 0:\n",
    "        return np.zeros(vector_size)\n",
    "    return np.mean(vectors, axis=0)"
   ]
  },
  {
   "cell_type": "markdown",
   "id": "7c01174c",
   "metadata": {},
   "source": [
    "## Datasets and DataLoaders creation"
   ]
  },
  {
   "cell_type": "code",
   "execution_count": 45,
   "id": "167485f1",
   "metadata": {},
   "outputs": [],
   "source": [
    "class BallDataset(Dataset):\n",
    "    def __init__(self, X, y):\n",
    "        self.X = torch.tensor(X, dtype=torch.float32)\n",
    "        self.y = torch.tensor(y, dtype=torch.float32)\n",
    "    def __len__(self):\n",
    "        return len(self.y)\n",
    "    def __getitem__(self, idx):\n",
    "        return self.X[idx], self.y[idx]"
   ]
  },
  {
   "cell_type": "code",
   "execution_count": 44,
   "id": "1aa17652",
   "metadata": {},
   "outputs": [],
   "source": [
    "X_train = np.array([text_to_vec(t, w2v_model, vector_size) for t in train['text']])\n",
    "y_train = train['label'].values\n",
    "\n",
    "X_test = np.array([text_to_vec(t, w2v_model, vector_size) for t in test['text']])\n",
    "y_test = test_results['label'].values"
   ]
  },
  {
   "cell_type": "code",
   "execution_count": 46,
   "id": "0cb3e61e",
   "metadata": {},
   "outputs": [],
   "source": [
    "train_dataset = BallDataset(X_train, y_train)\n",
    "test_dataset = BallDataset(X_test, y_test)\n",
    "\n",
    "train_loader = DataLoader(train_dataset, batch_size=32, shuffle=True)\n",
    "test_loader = DataLoader(test_dataset, batch_size=32)"
   ]
  },
  {
   "cell_type": "markdown",
   "id": "715f56c2",
   "metadata": {},
   "source": [
    "## Super Simple NN"
   ]
  },
  {
   "cell_type": "code",
   "execution_count": 47,
   "id": "d4756702",
   "metadata": {},
   "outputs": [],
   "source": [
    "class SimpleNN(nn.Module):\n",
    "    def __init__(self, input_dim):\n",
    "        super().__init__()\n",
    "        self.fc1 = nn.Linear(input_dim, 128)\n",
    "        self.relu = nn.ReLU()\n",
    "        self.fc2 = nn.Linear(128, 1)\n",
    "        self.sigmoid = nn.Sigmoid()\n",
    "    def forward(self, x):\n",
    "        x = self.relu(self.fc1(x))\n",
    "        x = self.sigmoid(self.fc2(x))\n",
    "        return x.squeeze()\n"
   ]
  },
  {
   "cell_type": "markdown",
   "id": "2d665189",
   "metadata": {},
   "source": [
    "## Helper functions to train and evaluate model "
   ]
  },
  {
   "cell_type": "code",
   "execution_count": 48,
   "id": "8cdb1e64",
   "metadata": {},
   "outputs": [],
   "source": [
    "device = torch.device('cuda' if torch.cuda.is_available() else 'cpu')\n",
    "model = SimpleNN(vector_size).to(device)\n",
    "optimizer = torch.optim.Adam(model.parameters(), lr=1e-3)\n",
    "criterion = nn.BCELoss()"
   ]
  },
  {
   "cell_type": "code",
   "execution_count": 49,
   "id": "565f4ac3",
   "metadata": {},
   "outputs": [],
   "source": [
    "def train_model(model, train_loader, optimizer, criterion, device, epochs=10):\n",
    "    model.train()\n",
    "    for epoch in range(epochs):\n",
    "        total_loss = 0\n",
    "        for X_batch, y_batch in train_loader:\n",
    "            X_batch, y_batch = X_batch.to(device), y_batch.to(device)\n",
    "            optimizer.zero_grad()\n",
    "            outputs = model(X_batch)\n",
    "            loss = criterion(outputs, y_batch)\n",
    "            loss.backward()\n",
    "            optimizer.step()\n",
    "            total_loss += loss.item()\n",
    "        print(f\"Epoch {epoch+1}/{epochs} | Loss: {total_loss/len(train_loader):.4f}\")"
   ]
  },
  {
   "cell_type": "code",
   "execution_count": 50,
   "id": "da3cd793",
   "metadata": {},
   "outputs": [],
   "source": [
    "def evaluate_model(model, data_loader, device):\n",
    "    model.eval()\n",
    "    all_preds = []\n",
    "    all_labels = []\n",
    "    with torch.no_grad():\n",
    "        for X_batch, y_batch in data_loader:\n",
    "            X_batch = X_batch.to(device)\n",
    "            outputs = model(X_batch)\n",
    "            preds = (outputs > 0.5).float()\n",
    "            all_preds.extend(preds.cpu().numpy())\n",
    "            all_labels.extend(y_batch.cpu().numpy())\n",
    "    return np.array(all_preds), np.array(all_labels)"
   ]
  },
  {
   "cell_type": "code",
   "execution_count": 51,
   "id": "27cbc162",
   "metadata": {},
   "outputs": [
    {
     "name": "stdout",
     "output_type": "stream",
     "text": [
      "Epoch 1/10 | Loss: 0.1921\n",
      "Epoch 2/10 | Loss: 0.1446\n",
      "Epoch 3/10 | Loss: 0.1340\n",
      "Epoch 4/10 | Loss: 0.1273\n",
      "Epoch 5/10 | Loss: 0.1230\n",
      "Epoch 6/10 | Loss: 0.1196\n",
      "Epoch 7/10 | Loss: 0.1163\n",
      "Epoch 8/10 | Loss: 0.1123\n",
      "Epoch 9/10 | Loss: 0.1094\n",
      "Epoch 10/10 | Loss: 0.1060\n"
     ]
    }
   ],
   "source": [
    "train_model(model, train_loader, optimizer, criterion, device, epochs=10)"
   ]
  },
  {
   "cell_type": "code",
   "execution_count": 52,
   "id": "7d62554d",
   "metadata": {},
   "outputs": [
    {
     "name": "stdout",
     "output_type": "stream",
     "text": [
      "Test accuracy: 0.9499266324284666\n"
     ]
    }
   ],
   "source": [
    "preds, labels = evaluate_model(model, test_loader, device)\n",
    "print(\"Test accuracy:\", accuracy_score(labels, preds))"
   ]
  }
 ],
 "metadata": {
  "kernelspec": {
   "display_name": "venv",
   "language": "python",
   "name": "python3"
  },
  "language_info": {
   "codemirror_mode": {
    "name": "ipython",
    "version": 3
   },
   "file_extension": ".py",
   "mimetype": "text/x-python",
   "name": "python",
   "nbconvert_exporter": "python",
   "pygments_lexer": "ipython3",
   "version": "3.11.7"
  }
 },
 "nbformat": 4,
 "nbformat_minor": 5
}
